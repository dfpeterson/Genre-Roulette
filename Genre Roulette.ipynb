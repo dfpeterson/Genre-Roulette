{
 "cells": [
  {
   "cell_type": "markdown",
   "metadata": {},
   "source": [
    "# Genre Roulette  \n",
    "Run the script below to get a random genre, then enter it into the charts at https://rateyourmusic.com/customchart"
   ]
  },
  {
   "cell_type": "code",
   "execution_count": 19,
   "metadata": {},
   "outputs": [
    {
     "data": {
      "text/plain": [
       "'latin freestyle'"
      ]
     },
     "execution_count": 19,
     "metadata": {},
     "output_type": "execute_result"
    }
   ],
   "source": [
    "import random\n",
    "with open('autosuggest.js','r', encoding='utf-8') as genre_file:\n",
    "    for line in genre_file.readlines():\n",
    "        if line.startswith(' var descriptorsuggestions'):\n",
    "            genres = line[40:-4].split(\"', '\")\n",
    "    #genre_file.readlines()\n",
    "random.choice(genres)"
   ]
  }
 ],
 "metadata": {
  "kernelspec": {
   "display_name": "Python 3",
   "language": "python",
   "name": "python3"
  },
  "language_info": {
   "codemirror_mode": {
    "name": "ipython",
    "version": 3
   },
   "file_extension": ".py",
   "mimetype": "text/x-python",
   "name": "python",
   "nbconvert_exporter": "python",
   "pygments_lexer": "ipython3",
   "version": "3.7.3"
  }
 },
 "nbformat": 4,
 "nbformat_minor": 2
}
